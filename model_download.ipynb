{
 "cells": [
  {
   "cell_type": "code",
   "execution_count": 1,
   "id": "31a40ec0",
   "metadata": {},
   "outputs": [],
   "source": [
    "from sentence_transformers import SentenceTransformer"
   ]
  },
  {
   "cell_type": "code",
   "execution_count": 2,
   "id": "ece0fa87",
   "metadata": {},
   "outputs": [
    {
     "name": "stderr",
     "output_type": "stream",
     "text": [
      "No sentence-transformers model found with name timpal0l/mdeberta-v3-base-squad2. Creating a new one with MEAN pooling.\n"
     ]
    }
   ],
   "source": [
    "model = SentenceTransformer('timpal0l/mdeberta-v3-base-squad2')\n",
    "model.save(\"./model/mdeberta\")"
   ]
  },
  {
   "cell_type": "code",
   "execution_count": 3,
   "id": "6eda1bbf",
   "metadata": {},
   "outputs": [
    {
     "name": "stderr",
     "output_type": "stream",
     "text": [
      "No sentence-transformers model found with name HieuLV3/QA_UIT_xlm_roberta_large. Creating a new one with MEAN pooling.\n",
      "C:\\Users\\songk\\anaconda3\\lib\\site-packages\\torch\\_utils.py:776: UserWarning: TypedStorage is deprecated. It will be removed in the future and UntypedStorage will be the only storage class. This should only matter to you if you are using storages directly.  To access UntypedStorage directly, use tensor.untyped_storage() instead of tensor.storage()\n",
      "  return self.fget.__get__(instance, owner)()\n",
      "Some weights of RobertaModel were not initialized from the model checkpoint at HieuLV3/QA_UIT_xlm_roberta_large and are newly initialized: ['roberta.pooler.dense.bias', 'roberta.pooler.dense.weight']\n",
      "You should probably TRAIN this model on a down-stream task to be able to use it for predictions and inference.\n"
     ]
    }
   ],
   "source": [
    "model = SentenceTransformer('HieuLV3/QA_UIT_xlm_roberta_large')\n",
    "model.save(\"./model/xlm_roberta\")"
   ]
  },
  {
   "cell_type": "code",
   "execution_count": 4,
   "id": "1a88c1ab",
   "metadata": {},
   "outputs": [
    {
     "name": "stderr",
     "output_type": "stream",
     "text": [
      "No sentence-transformers model found with name arogyaGurkha/koelectra-base-discriminator-finetuned-squad_kor_v1. Creating a new one with MEAN pooling.\n"
     ]
    }
   ],
   "source": [
    "model = SentenceTransformer('arogyaGurkha/koelectra-base-discriminator-finetuned-squad_kor_v1')\n",
    "model.save(\"./model/koelectra\")"
   ]
  }
 ],
 "metadata": {
  "kernelspec": {
   "display_name": "Python 3 (ipykernel)",
   "language": "python",
   "name": "python3"
  },
  "language_info": {
   "codemirror_mode": {
    "name": "ipython",
    "version": 3
   },
   "file_extension": ".py",
   "mimetype": "text/x-python",
   "name": "python",
   "nbconvert_exporter": "python",
   "pygments_lexer": "ipython3",
   "version": "3.9.16"
  }
 },
 "nbformat": 4,
 "nbformat_minor": 5
}
